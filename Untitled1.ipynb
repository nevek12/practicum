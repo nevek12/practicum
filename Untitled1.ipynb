{
 "cells": [
  {
   "cell_type": "code",
   "execution_count": 6,
   "id": "4747797c",
   "metadata": {},
   "outputs": [
    {
     "name": "stdout",
     "output_type": "stream",
     "text": [
      "['aaa', 'bbb==ccc__ddd']\n"
     ]
    }
   ],
   "source": [
    "import re \n",
    "s = 'aaa--bbb==ccc__ddd'\n",
    "s = re.split('--|==|__', s)\n",
    "print(s)"
   ]
  },
  {
   "cell_type": "code",
   "execution_count": 7,
   "id": "cdf64463",
   "metadata": {},
   "outputs": [
    {
     "name": "stdout",
     "output_type": "stream",
     "text": [
      "введите строку fjghjk kjhgukhbn kjhg kg\n",
      "fjghjk\n"
     ]
    }
   ],
   "source": [
    "stroka = input(\"введите строку \")\n",
    "print(stroka.split()[0])"
   ]
  },
  {
   "cell_type": "code",
   "execution_count": 8,
   "id": "487cbe87",
   "metadata": {},
   "outputs": [
    {
     "name": "stdout",
     "output_type": "stream",
     "text": [
      "введите строку jhgkyu ykfjg kjhg sh dd rudh trd\n",
      "trd\n"
     ]
    }
   ],
   "source": [
    "stroka = input(\"введите строку \")\n",
    "print(stroka.split()[-1])"
   ]
  },
  {
   "cell_type": "code",
   "execution_count": 10,
   "id": "dbb5c5d0",
   "metadata": {},
   "outputs": [
    {
     "name": "stdout",
     "output_type": "stream",
     "text": [
      "введите строку kgj kgsgo fouwg f agsdfk iew gfa gfki ufagy\n",
      "agsdfk iew ufagy\n"
     ]
    }
   ],
   "source": [
    "stroka = input(\"введите строку \").split()\n",
    "v = []\n",
    "for i in range(len(stroka)):\n",
    "    if stroka[i][0] in 'AIUYEaeyuioO':\n",
    "        v.append(stroka[i])\n",
    "print(*v)\n"
   ]
  },
  {
   "cell_type": "code",
   "execution_count": null,
   "id": "d19629e2",
   "metadata": {},
   "outputs": [],
   "source": []
  },
  {
   "cell_type": "code",
   "execution_count": null,
   "id": "97e1a98d",
   "metadata": {},
   "outputs": [],
   "source": [
    "v = input('введите е-mail')\n",
    "while v.find('@') == -1 or (v[-3:] != \".ru\" and v[-4:] != \".com\"):\n",
    "    v = input('введите корректно е-mail')\n",
    "else:\n",
    "    print('корректно') \n",
    "\n",
    "    \n",
    "    "
   ]
  },
  {
   "cell_type": "code",
   "execution_count": null,
   "id": "f5afb5b3",
   "metadata": {},
   "outputs": [],
   "source": []
  }
 ],
 "metadata": {
  "kernelspec": {
   "display_name": "Python 3 (ipykernel)",
   "language": "python",
   "name": "python3"
  },
  "language_info": {
   "codemirror_mode": {
    "name": "ipython",
    "version": 3
   },
   "file_extension": ".py",
   "mimetype": "text/x-python",
   "name": "python",
   "nbconvert_exporter": "python",
   "pygments_lexer": "ipython3",
   "version": "3.11.4"
  }
 },
 "nbformat": 4,
 "nbformat_minor": 5
}
