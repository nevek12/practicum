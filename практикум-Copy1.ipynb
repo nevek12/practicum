{
 "cells": [
  {
   "cell_type": "markdown",
   "id": "f995ec8d",
   "metadata": {},
   "source": [
    "Задание 1\n",
    "\n",
    "\n",
    "1. Реализовать программу, с которой можно играть в логическую игру «Быки и коровы» (описание правил игры: http://робомозг.рф/Articles/BullsAndCowsRules ). Программа загадывает число, пользователь вводит очередной вариант отгадываемого числа, программа возвращает количество быков и коров и в случае выигрыша игрока сообщает о победе и завершается. Сама программа НЕ ходит, т.е. не пытается отгадать число загаданное игроком.\n",
    "Взаимодействие с программой производится через консоль, при запросе данных от пользователя программа сообщает, что ожидает от пользователя и проверяет корректность ввода."
   ]
  },
  {
   "cell_type": "code",
   "execution_count": null,
   "id": "63d95d52",
   "metadata": {},
   "outputs": [
    {
     "name": "stdout",
     "output_type": "stream",
     "text": [
      "Введите 4 цифры 4658\n",
      "bull = 1, cow = 1\n",
      "Введите 4 цифры 7895\n",
      "bull = 0, cow = 1\n"
     ]
    }
   ],
   "source": [
    "from random import randint\n",
    "secret_bot = ''.join([str(randint(0, 9)) for i in range(4)])\n",
    "bull = 0\n",
    "while bull != 4:\n",
    "    secret_bot = secret_bot\n",
    "    cow, bull = 0, 0  \n",
    "    change_people = input('Введите 4 цифры ')\n",
    "    if len(change_people) == 4 and change_people.isdigit():\n",
    "        for i in range(4):\n",
    "            if secret_bot[i] == change_people[i]:\n",
    "                bull += 1\n",
    "                secret_bot.replace(str(secret_bot[i]), '*', 1)\n",
    "            elif change_people[i] in secret_bot:\n",
    "                cow += 1\n",
    "        print(f\"bull = {bull}, cow = {cow}\")"
   ]
  },
  {
   "cell_type": "code",
   "execution_count": 8,
   "id": "f57d482d",
   "metadata": {},
   "outputs": [
    {
     "name": "stdout",
     "output_type": "stream",
     "text": [
      " ___ \n",
      " ___ \n",
      " ___\n",
      "Введите координаты, куда нужно поставить КРЕСТИК1 2\n",
      " _X_ \n",
      " ___ \n",
      " ___\n",
      "Введите координаты, куда нужно поставить Нолик2 2\n",
      " _X_ \n",
      " _O_ \n",
      " ___\n",
      "Введите координаты, куда нужно поставить КРЕСТИК2 3\n",
      " _X_ \n",
      " _OX \n",
      " ___\n",
      "Введите координаты, куда нужно поставить Нолик1 1\n",
      " OX_ \n",
      " _OX \n",
      " ___\n",
      "Введите координаты, куда нужно поставить КРЕСТИК3 1\n",
      " OX_ \n",
      " _OX \n",
      " X__\n",
      "Введите координаты, куда нужно поставить Нолик3 3\n",
      "ВЫИГРАЛ 2 игрок\n"
     ]
    }
   ],
   "source": [
    "def l():\n",
    "    global desk_ship\n",
    "    global X_playerx\n",
    "    global X_playery\n",
    "    X_playerx, X_playery = map(int, input('Введите координаты, куда нужно поставить КРЕСТИК').split(' '))\n",
    "    \n",
    "    if desk_ship[X_playerx-1][X_playery-1] == '_':\n",
    "        desk_ship[X_playerx-1][X_playery-1] = \"X\"\n",
    "        pass\n",
    "    else:\n",
    "        print('поле уже занято')\n",
    "        return f()\n",
    "def g():\n",
    "    global desk_ship\n",
    "    global O_playerx\n",
    "    global O_playery\n",
    "    O_playerx, O_playery = map(int, input('Введите координаты, куда нужно поставить Нолик').split(' '))\n",
    "    \n",
    "    if desk_ship[O_playerx-1][O_playery-1] == '_':\n",
    "        desk_ship[O_playerx-1][O_playery-1] = \"O\"\n",
    "        pass\n",
    "    else:\n",
    "        print('поле уже занято')\n",
    "        return f()\n",
    "f = 0\n",
    "desk_ship = [['_', '_', '_'],\n",
    "            ['_', '_', '_'],\n",
    "            ['_', '_', '_']]\n",
    "win = 0\n",
    "print('', ''.join(desk_ship[0]), '\\n', ''.join(desk_ship[1]), '\\n', ''.join(desk_ship[2]))\n",
    "while f != 1:\n",
    "    \n",
    "    l()\n",
    "    if (desk_ship[0][0] == desk_ship[1][1] == desk_ship[2][2] == 'X') or (desk_ship[0][-1] == desk_ship[1][1] == desk_ship[2][-3] == 'X'):\n",
    "        win = '1 игрок'\n",
    "        break\n",
    "    for i in range(3):\n",
    "        if ''.join(desk_ship[i]) == 'XXX' or (desk_ship[0][i] == desk_ship[1][i] == desk_ship[2][i] == 'X'):\n",
    "            win = '1 игрок'\n",
    "            break\n",
    "    print('', ''.join(desk_ship[0]), '\\n', ''.join(desk_ship[1]), '\\n', ''.join(desk_ship[2]))\n",
    "    if win != 0:\n",
    "        break\n",
    "    g()\n",
    "    if (desk_ship[0][0] == desk_ship[1][1] == desk_ship[2][2] == 'O') or (desk_ship[0][-1] == desk_ship[1][1] == desk_ship[2][-3] == 'O'):\n",
    "        win = '2 игрок'\n",
    "        break\n",
    "    for i in range(3):\n",
    "        if ''.join(desk_ship[i]) == 'OOO' or (desk_ship[0][i] == desk_ship[1][i] == desk_ship[2][i] == \"O\"):\n",
    "            win = '2 игрок'\n",
    "            break\n",
    "    print('', ''.join(desk_ship[0]), '\\n', ''.join(desk_ship[1]), '\\n', ''.join(desk_ship[2]))\n",
    "    if win != 0:\n",
    "        break\n",
    "print(f'ВЫИГРАЛ {win}')\n",
    "        \n",
    "            \n",
    "            \n"
   ]
  },
  {
   "cell_type": "code",
   "execution_count": null,
   "id": "e1aa7054",
   "metadata": {},
   "outputs": [],
   "source": []
  }
 ],
 "metadata": {
  "kernelspec": {
   "display_name": "Python 3 (ipykernel)",
   "language": "python",
   "name": "python3"
  },
  "language_info": {
   "codemirror_mode": {
    "name": "ipython",
    "version": 3
   },
   "file_extension": ".py",
   "mimetype": "text/x-python",
   "name": "python",
   "nbconvert_exporter": "python",
   "pygments_lexer": "ipython3",
   "version": "3.11.4"
  }
 },
 "nbformat": 4,
 "nbformat_minor": 5
}
